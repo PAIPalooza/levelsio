{
  "cells": [
    {
      "cell_type": "markdown",
      "metadata": {},
      "source": [
        "# Interior Style Transfer - Interactive Demo\n",
        "\n",
        "This notebook demonstrates the capabilities of the Interior Style Transfer POC. It allows users to:\n",
        "1. Transfer styles between interior design images\n",
        "2. Segment room elements (walls, floors, ceiling)\n",
        "3. Evaluate the quality of style transfers\n",
        "4. Visualize and save the results\n",
        "\n",
        "Follow along with the steps to see how the system works!"
      ]
    },
    {
      "cell_type": "markdown",
      "metadata": {},
      "source": [
        "## Setup and Imports\n",
        "\n",
        "First, let's set up our environment and import the necessary modules."
      ]
    },
    {
      "cell_type": "code",
      "execution_count": null,
      "metadata": {},
      "outputs": [],
      "source": "import os\nimport sys\nimport numpy as np\nimport matplotlib.pyplot as plt\nfrom PIL import Image\nfrom dotenv import load_dotenv\n\n# Load environment variables (for API keys)\nload_dotenv()\n\n# Add the parent directory to the path\nsys.path.append('..')\n\n# Helper functions for displaying images\ndef display_images(images, titles=None, figsize=(15, 10), rows=1):\n    \"\"\"Display multiple images in a row.\"\"\"\n    cols = len(images) // rows\n    if len(images) % rows != 0:\n        cols += 1\n    \n    fig, axes = plt.subplots(rows, cols, figsize=figsize)\n    if rows == 1 and cols == 1:\n        axes = np.array([axes])\n    elif rows == 1 or cols == 1:\n        axes = axes.flatten()\n    \n    for i, (img, ax) in enumerate(zip(images, axes.flatten())):\n        if i < len(images):\n            if img.max() <= 1.0 and img.dtype == np.float64:\n                img = (img * 255).astype(np.uint8)\n            ax.imshow(img)\n            if titles and i < len(titles):\n                ax.set_title(titles[i])\n            ax.axis('off')\n        else:\n            ax.axis('off')\n    \n    plt.tight_layout()\n    plt.show()\n\n# Helper function to load sample images\ndef load_sample_images(sample_dir='sample_images'):\n    \"\"\"Load sample interior images from a directory.\"\"\"\n    import glob\n    \n    images = {}\n    sample_files = (\n        glob.glob(os.path.join(sample_dir, '*.jpg')) + \n        glob.glob(os.path.join(sample_dir, '*.jpeg')) + \n        glob.glob(os.path.join(sample_dir, '*.png'))\n    )\n    \n    if not sample_files:\n        print(f'No sample images found in {sample_dir}')\n        return images\n    \n    for file_path in sample_files:\n        try:\n            # Get the filename without extension as the key\n            name = os.path.splitext(os.path.basename(file_path))[0]\n            # Load the image\n            img = Image.open(file_path)\n            # Convert to numpy array\n            img_array = np.array(img)\n            # Add to dictionary\n            images[name] = img_array\n            print(f'Loaded {name} from {file_path}')\n        except Exception as e:\n            print(f'Error loading {file_path}: {str(e)}')\n            \n    return images\n\n# Import our custom modules\ntry:\n    from src.style_transfer import StyleTransferService\n    from src.segmentation import SegmentationHandler\n    from src.evaluation import VisualEvaluationService, ImageEvaluator\n    # Import with adapter\nfrom flux_adapter import FluxAPIClient\n    print(\"\u2705 Successfully imported project modules\")\nexcept ImportError as e:\n    print(f\"\u26a0\ufe0f Import error: {e}\")\n    print(\"Some functions may not work without the required modules.\")\n\n# Check environment variables\nfal_key = os.getenv('FAL_KEY')\nif fal_key:\n    print('\u2705 FAL_KEY environment variable is set')\nelse:\n    print('\u26a0\ufe0f FAL_KEY environment variable is not set. Style transfer may not work.')\n\nprint('Environment setup complete!')"
    },
    {
      "cell_type": "markdown",
      "metadata": {},
      "source": [
        "## Loading Sample Images\n",
        "\n",
        "Let's load the sample interior images from our local directory."
      ]
    },
    {
      "cell_type": "code",
      "execution_count": null,
      "metadata": {},
      "outputs": [],
      "source": [
        "# Load sample images from local directory\n",
        "sample_images = load_sample_images('notebooks/sample_images')\n",
        "\n",
        "if sample_images:\n",
        "    # Display the loaded images\n",
        "    display_images(\n",
        "        list(sample_images.values()), \n",
        "        titles=list(sample_images.keys()), \n",
        "        figsize=(20, 10),\n",
        "        rows=2\n",
        "    )\n",
        "    print(f'\u2705 Successfully loaded {len(sample_images)} sample images!')\n",
        "else:\n",
        "    print('\u26a0\ufe0f No sample images were found. Please check the sample_images directory.')"
      ]
    },
    {
      "cell_type": "markdown",
      "metadata": {},
      "source": [
        "## Room Segmentation\n",
        "\n",
        "Now, let's use the SegmentationHandler to identify key elements in our interior images:\n",
        "- Walls\n",
        "- Floors\n",
        "- Ceiling\n",
        "- Windows\n",
        "- Structural elements\n",
        "\n",
        "This will help us preserve these elements during style transfer."
      ]
    },
    {
      "cell_type": "code",
      "execution_count": null,
      "metadata": {},
      "outputs": [],
      "source": [
        "# Initialize the segmentation handler\n",
        "try:\n",
        "    segmentation_handler = SegmentationHandler()\n",
        "\n",
        "    # Choose an image to segment\n",
        "    if sample_images:\n",
        "        # Select an image for demonstration (modern_living_room if available)\n",
        "        image_key = 'modern_living_room' if 'modern_living_room' in sample_images else list(sample_images.keys())[0]\n",
        "        original_image = sample_images[image_key]\n",
        "        \n",
        "        print(f'Generating segmentation masks for {image_key}...')\n",
        "        \n",
        "        # Generate segmentation masks\n",
        "        masks = segmentation_handler.generate_masks(original_image)\n",
        "        \n",
        "        # Display the original image and masks\n",
        "        plt.figure(figsize=(20, 15))\n",
        "        \n",
        "        # Original image\n",
        "        plt.subplot(2, 3, 1)\n",
        "        plt.imshow(original_image)\n",
        "        plt.title(f'Original: {image_key}')\n",
        "        plt.axis('off')\n",
        "        \n",
        "        # Display masks\n",
        "        mask_types = ['walls', 'floor', 'ceiling', 'windows', 'structure']\n",
        "        for i, mask_type in enumerate(mask_types, 2):\n",
        "            plt.subplot(2, 3, i)\n",
        "            plt.imshow(original_image)\n",
        "            mask = masks.get(mask_type, np.zeros((original_image.shape[0], original_image.shape[1]), dtype=np.uint8))\n",
        "            plt.imshow(mask, alpha=0.7, cmap='cool')\n",
        "            plt.title(f'{mask_type.capitalize()} Mask')\n",
        "            plt.axis('off')\n",
        "        \n",
        "        plt.tight_layout()\n",
        "        plt.show()\n",
        "        \n",
        "        # Save the structure mask for later use\n",
        "        structure_mask = masks.get('structure', np.zeros((original_image.shape[0], original_image.shape[1]), dtype=np.uint8))\n",
        "        \n",
        "        print('\u2705 Segmentation complete!')\n",
        "    else:\n",
        "        print('\u26a0\ufe0f No images available for segmentation.')\n",
        "except Exception as e:\n",
        "    print(f'\u26a0\ufe0f Error during segmentation: {str(e)}')"
      ]
    },
    {
      "cell_type": "markdown",
      "metadata": {},
      "source": [
        "## Style Transfer\n",
        "\n",
        "Now, let's apply style transfer to our interior images using the StyleTransferService.\n",
        "We'll transfer styles between different interior design styles."
      ]
    },
    {
      "cell_type": "code",
      "execution_count": null,
      "metadata": {},
      "outputs": [],
      "source": [
        "try:\n",
        "    # Initialize the style transfer service\n",
        "    style_transfer_service = StyleTransferService()\n",
        "\n",
        "    def perform_style_transfer(content_image, style_image, content_name='Content', style_name='Style'):\n",
        "        \"\"\"Perform style transfer between two images.\"\"\"\n",
        "        print(f'Applying style from {style_name} to {content_name}...')\n",
        "        \n",
        "        # Perform style transfer\n",
        "        result = style_transfer_service.transfer_style(content_image, style_image)\n",
        "        \n",
        "        # Display the results\n",
        "        display_images(\n",
        "            [content_image, style_image, result],\n",
        "            titles=[f'Content: {content_name}', f'Style: {style_name}', 'Style Transfer Result'],\n",
        "            figsize=(18, 6)\n",
        "        )\n",
        "        \n",
        "        # Save the result if needed\n",
        "        output_dir = 'notebooks/outputs'\n",
        "        os.makedirs(output_dir, exist_ok=True)\n",
        "        output_path = os.path.join(output_dir, f'{content_name}_styled_as_{style_name}.jpg')\n",
        "        Image.fromarray(result.astype(np.uint8)).save(output_path)\n",
        "        print(f'Saved result to {output_path}')\n",
        "        \n",
        "        return result\n",
        "\n",
        "    # Perform style transfer if we have at least two images\n",
        "    if len(sample_images) >= 2:\n",
        "        # Get two distinct images for content and style\n",
        "        content_key = 'modern_living_room' if 'modern_living_room' in sample_images else list(sample_images.keys())[0]\n",
        "        \n",
        "        # Choose a different image for style\n",
        "        style_keys = [k for k in sample_images.keys() if k != content_key]\n",
        "        style_key = style_keys[0] if style_keys else content_key\n",
        "        \n",
        "        content_image = sample_images[content_key]\n",
        "        style_image = sample_images[style_key]\n",
        "        \n",
        "        # Perform the style transfer\n",
        "        result_image = perform_style_transfer(content_image, style_image, content_key, style_key)\n",
        "    else:\n",
        "        print('\u26a0\ufe0f Need at least two images for style transfer demonstration.')\n",
        "except Exception as e:\n",
        "    print(f'\u26a0\ufe0f Error during style transfer: {str(e)}')"
      ]
    },
    {
      "cell_type": "markdown",
      "metadata": {},
      "source": [
        "## Conclusion\n",
        "\n",
        "In this notebook, we've demonstrated the key features of the Interior Style Transfer POC:\n",
        "\n",
        "1. **Image Segmentation**: We identified key structural elements in interior images.\n",
        "2. **Style Transfer**: We transferred design styles between different interior images.\n",
        "3. **Structure Preservation**: We maintained architectural integrity during style transfer.\n",
        "4. **Quality Evaluation**: We evaluated the results using objective metrics.\n",
        "5. **Style Variations**: We generated multiple style options for user selection.\n",
        "\n",
        "This interactive demo showcases the potential of AI-powered interior design tools to quickly generate design concepts while preserving architectural constraints.\n",
        "\n",
        "All generated outputs have been saved to the `notebooks/outputs` directory for your reference.\n",
        "\n",
        "### Next Steps\n",
        "\n",
        "- Try with your own interior photos\n",
        "- Experiment with different style references\n",
        "- Adjust segmentation parameters for better structure identification\n",
        "- Use the API for integration with design software"
      ]
    }
  ],
  "metadata": {
    "kernelspec": {
      "display_name": "Python 3 (ipykernel)",
      "language": "python",
      "name": "python3"
    },
    "language_info": {
      "codemirror_mode": {
        "name": "ipython",
        "version": 3
      },
      "file_extension": ".py",
      "mimetype": "text/x-python",
      "name": "python",
      "nbconvert_exporter": "python",
      "pygments_lexer": "ipython3",
      "version": "3.13.1"
    }
  },
  "nbformat": 4,
  "nbformat_minor": 4
}