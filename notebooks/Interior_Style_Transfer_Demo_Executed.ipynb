{
 "cells": [
  {
   "cell_type": "markdown",
   "metadata": {},
   "source": [
    "# Interior Style Transfer - Interactive Demo\n",
    "\n",
    "This notebook demonstrates the capabilities of the Interior Style Transfer POC. It allows users to:\n",
    "1. Transfer styles between interior design images\n",
    "2. Segment room elements (walls, floors, ceiling)\n",
    "3. Evaluate the quality of style transfers\n",
    "4. Visualize and save the results\n",
    "\n",
    "Follow along with the steps to see how the system works!"
   ]
  },
  {
   "cell_type": "markdown",
   "metadata": {},
   "source": [
    "## Setup and Imports\n",
    "\n",
    "First, let's set up our environment and import the necessary modules."
   ]
  },
  {
   "cell_type": "code",
   "execution_count": 1,
   "metadata": {
    "execution": {
     "iopub.execute_input": "2025-03-31T21:15:33.680723Z",
     "iopub.status.busy": "2025-03-31T21:15:33.680546Z",
     "iopub.status.idle": "2025-03-31T21:15:33.693405Z",
     "shell.execute_reply": "2025-03-31T21:15:33.693138Z"
    }
   },
   "outputs": [
    {
     "ename": "SyntaxError",
     "evalue": "expected 'except' or 'finally' block (2618998248.py, line 79)",
     "output_type": "error",
     "traceback": [
      "  \u001b[36mCell\u001b[39m\u001b[36m \u001b[39m\u001b[32mIn[1]\u001b[39m\u001b[32m, line 79\u001b[39m\n\u001b[31m    \u001b[39m\u001b[31mfrom flux_adapter import FluxAPIClient\u001b[39m\n    ^\n\u001b[31mSyntaxError\u001b[39m\u001b[31m:\u001b[39m expected 'except' or 'finally' block\n"
     ]
    }
   ],
   "source": [
    "import os\n",
    "import sys\n",
    "import numpy as np\n",
    "import matplotlib.pyplot as plt\n",
    "from PIL import Image\n",
    "from dotenv import load_dotenv\n",
    "\n",
    "# Load environment variables (for API keys)\n",
    "load_dotenv()\n",
    "\n",
    "# Add the parent directory to the path\n",
    "sys.path.append('..')\n",
    "\n",
    "# Helper functions for displaying images\n",
    "def display_images(images, titles=None, figsize=(15, 10), rows=1):\n",
    "    \"\"\"Display multiple images in a row.\"\"\"\n",
    "    cols = len(images) // rows\n",
    "    if len(images) % rows != 0:\n",
    "        cols += 1\n",
    "    \n",
    "    fig, axes = plt.subplots(rows, cols, figsize=figsize)\n",
    "    if rows == 1 and cols == 1:\n",
    "        axes = np.array([axes])\n",
    "    elif rows == 1 or cols == 1:\n",
    "        axes = axes.flatten()\n",
    "    \n",
    "    for i, (img, ax) in enumerate(zip(images, axes.flatten())):\n",
    "        if i < len(images):\n",
    "            if img.max() <= 1.0 and img.dtype == np.float64:\n",
    "                img = (img * 255).astype(np.uint8)\n",
    "            ax.imshow(img)\n",
    "            if titles and i < len(titles):\n",
    "                ax.set_title(titles[i])\n",
    "            ax.axis('off')\n",
    "        else:\n",
    "            ax.axis('off')\n",
    "    \n",
    "    plt.tight_layout()\n",
    "    plt.show()\n",
    "\n",
    "# Helper function to load sample images\n",
    "def load_sample_images(sample_dir='sample_images'):\n",
    "    \"\"\"Load sample interior images from a directory.\"\"\"\n",
    "    import glob\n",
    "    \n",
    "    images = {}\n",
    "    sample_files = (\n",
    "        glob.glob(os.path.join(sample_dir, '*.jpg')) + \n",
    "        glob.glob(os.path.join(sample_dir, '*.jpeg')) + \n",
    "        glob.glob(os.path.join(sample_dir, '*.png'))\n",
    "    )\n",
    "    \n",
    "    if not sample_files:\n",
    "        print(f'No sample images found in {sample_dir}')\n",
    "        return images\n",
    "    \n",
    "    for file_path in sample_files:\n",
    "        try:\n",
    "            # Get the filename without extension as the key\n",
    "            name = os.path.splitext(os.path.basename(file_path))[0]\n",
    "            # Load the image\n",
    "            img = Image.open(file_path)\n",
    "            # Convert to numpy array\n",
    "            img_array = np.array(img)\n",
    "            # Add to dictionary\n",
    "            images[name] = img_array\n",
    "            print(f'Loaded {name} from {file_path}')\n",
    "        except Exception as e:\n",
    "            print(f'Error loading {file_path}: {str(e)}')\n",
    "            \n",
    "    return images\n",
    "\n",
    "# Import our custom modules\n",
    "try:\n",
    "    from src.style_transfer import StyleTransferService\n",
    "    from src.segmentation import SegmentationHandler\n",
    "    from src.evaluation import VisualEvaluationService, ImageEvaluator\n",
    "    # Import with adapter\n",
    "from flux_adapter import FluxAPIClient\n",
    "    print(\"✅ Successfully imported project modules\")\n",
    "except ImportError as e:\n",
    "    print(f\"⚠️ Import error: {e}\")\n",
    "    print(\"Some functions may not work without the required modules.\")\n",
    "\n",
    "# Check environment variables\n",
    "fal_key = os.getenv('FAL_KEY')\n",
    "if fal_key:\n",
    "    print('✅ FAL_KEY environment variable is set')\n",
    "else:\n",
    "    print('⚠️ FAL_KEY environment variable is not set. Style transfer may not work.')\n",
    "\n",
    "print('Environment setup complete!')"
   ]
  },
  {
   "cell_type": "markdown",
   "metadata": {},
   "source": [
    "## Loading Sample Images\n",
    "\n",
    "Let's load the sample interior images from our local directory."
   ]
  },
  {
   "cell_type": "code",
   "execution_count": 2,
   "metadata": {
    "execution": {
     "iopub.execute_input": "2025-03-31T21:15:33.711736Z",
     "iopub.status.busy": "2025-03-31T21:15:33.711624Z",
     "iopub.status.idle": "2025-03-31T21:15:33.773298Z",
     "shell.execute_reply": "2025-03-31T21:15:33.773062Z"
    }
   },
   "outputs": [
    {
     "ename": "NameError",
     "evalue": "name 'load_sample_images' is not defined",
     "output_type": "error",
     "traceback": [
      "\u001b[31m---------------------------------------------------------------------------\u001b[39m",
      "\u001b[31mNameError\u001b[39m                                 Traceback (most recent call last)",
      "\u001b[36mCell\u001b[39m\u001b[36m \u001b[39m\u001b[32mIn[2]\u001b[39m\u001b[32m, line 2\u001b[39m\n\u001b[32m      1\u001b[39m \u001b[38;5;66;03m# Load sample images from local directory\u001b[39;00m\n\u001b[32m----> \u001b[39m\u001b[32m2\u001b[39m sample_images = \u001b[43mload_sample_images\u001b[49m(\u001b[33m'\u001b[39m\u001b[33mnotebooks/sample_images\u001b[39m\u001b[33m'\u001b[39m)\n\u001b[32m      4\u001b[39m \u001b[38;5;28;01mif\u001b[39;00m sample_images:\n\u001b[32m      5\u001b[39m     \u001b[38;5;66;03m# Display the loaded images\u001b[39;00m\n\u001b[32m      6\u001b[39m     display_images(\n\u001b[32m      7\u001b[39m         \u001b[38;5;28mlist\u001b[39m(sample_images.values()), \n\u001b[32m      8\u001b[39m         titles=\u001b[38;5;28mlist\u001b[39m(sample_images.keys()), \n\u001b[32m      9\u001b[39m         figsize=(\u001b[32m20\u001b[39m, \u001b[32m10\u001b[39m),\n\u001b[32m     10\u001b[39m         rows=\u001b[32m2\u001b[39m\n\u001b[32m     11\u001b[39m     )\n",
      "\u001b[31mNameError\u001b[39m: name 'load_sample_images' is not defined"
     ]
    }
   ],
   "source": [
    "# Load sample images from local directory\n",
    "sample_images = load_sample_images('notebooks/sample_images')\n",
    "\n",
    "if sample_images:\n",
    "    # Display the loaded images\n",
    "    display_images(\n",
    "        list(sample_images.values()), \n",
    "        titles=list(sample_images.keys()), \n",
    "        figsize=(20, 10),\n",
    "        rows=2\n",
    "    )\n",
    "    print(f'✅ Successfully loaded {len(sample_images)} sample images!')\n",
    "else:\n",
    "    print('⚠️ No sample images were found. Please check the sample_images directory.')"
   ]
  },
  {
   "cell_type": "markdown",
   "metadata": {},
   "source": [
    "## Room Segmentation\n",
    "\n",
    "Now, let's use the SegmentationHandler to identify key elements in our interior images:\n",
    "- Walls\n",
    "- Floors\n",
    "- Ceiling\n",
    "- Windows\n",
    "- Structural elements\n",
    "\n",
    "This will help us preserve these elements during style transfer."
   ]
  },
  {
   "cell_type": "code",
   "execution_count": 3,
   "metadata": {
    "execution": {
     "iopub.execute_input": "2025-03-31T21:15:33.774376Z",
     "iopub.status.busy": "2025-03-31T21:15:33.774320Z",
     "iopub.status.idle": "2025-03-31T21:15:33.776824Z",
     "shell.execute_reply": "2025-03-31T21:15:33.776654Z"
    }
   },
   "outputs": [
    {
     "name": "stdout",
     "output_type": "stream",
     "text": [
      "⚠️ Error during segmentation: name 'SegmentationHandler' is not defined\n"
     ]
    }
   ],
   "source": [
    "# Initialize the segmentation handler\n",
    "try:\n",
    "    segmentation_handler = SegmentationHandler()\n",
    "\n",
    "    # Choose an image to segment\n",
    "    if sample_images:\n",
    "        # Select an image for demonstration (modern_living_room if available)\n",
    "        image_key = 'modern_living_room' if 'modern_living_room' in sample_images else list(sample_images.keys())[0]\n",
    "        original_image = sample_images[image_key]\n",
    "        \n",
    "        print(f'Generating segmentation masks for {image_key}...')\n",
    "        \n",
    "        # Generate segmentation masks\n",
    "        masks = segmentation_handler.generate_masks(original_image)\n",
    "        \n",
    "        # Display the original image and masks\n",
    "        plt.figure(figsize=(20, 15))\n",
    "        \n",
    "        # Original image\n",
    "        plt.subplot(2, 3, 1)\n",
    "        plt.imshow(original_image)\n",
    "        plt.title(f'Original: {image_key}')\n",
    "        plt.axis('off')\n",
    "        \n",
    "        # Display masks\n",
    "        mask_types = ['walls', 'floor', 'ceiling', 'windows', 'structure']\n",
    "        for i, mask_type in enumerate(mask_types, 2):\n",
    "            plt.subplot(2, 3, i)\n",
    "            plt.imshow(original_image)\n",
    "            mask = masks.get(mask_type, np.zeros((original_image.shape[0], original_image.shape[1]), dtype=np.uint8))\n",
    "            plt.imshow(mask, alpha=0.7, cmap='cool')\n",
    "            plt.title(f'{mask_type.capitalize()} Mask')\n",
    "            plt.axis('off')\n",
    "        \n",
    "        plt.tight_layout()\n",
    "        plt.show()\n",
    "        \n",
    "        # Save the structure mask for later use\n",
    "        structure_mask = masks.get('structure', np.zeros((original_image.shape[0], original_image.shape[1]), dtype=np.uint8))\n",
    "        \n",
    "        print('✅ Segmentation complete!')\n",
    "    else:\n",
    "        print('⚠️ No images available for segmentation.')\n",
    "except Exception as e:\n",
    "    print(f'⚠️ Error during segmentation: {str(e)}')"
   ]
  },
  {
   "cell_type": "markdown",
   "metadata": {},
   "source": [
    "## Style Transfer\n",
    "\n",
    "Now, let's apply style transfer to our interior images using the StyleTransferService.\n",
    "We'll transfer styles between different interior design styles."
   ]
  },
  {
   "cell_type": "code",
   "execution_count": 4,
   "metadata": {
    "execution": {
     "iopub.execute_input": "2025-03-31T21:15:33.777795Z",
     "iopub.status.busy": "2025-03-31T21:15:33.777737Z",
     "iopub.status.idle": "2025-03-31T21:15:33.780223Z",
     "shell.execute_reply": "2025-03-31T21:15:33.780049Z"
    }
   },
   "outputs": [
    {
     "name": "stdout",
     "output_type": "stream",
     "text": [
      "⚠️ Error during style transfer: name 'StyleTransferService' is not defined\n"
     ]
    }
   ],
   "source": [
    "try:\n",
    "    # Initialize the style transfer service\n",
    "    style_transfer_service = StyleTransferService()\n",
    "\n",
    "    def perform_style_transfer(content_image, style_image, content_name='Content', style_name='Style'):\n",
    "        \"\"\"Perform style transfer between two images.\"\"\"\n",
    "        print(f'Applying style from {style_name} to {content_name}...')\n",
    "        \n",
    "        # Perform style transfer\n",
    "        result = style_transfer_service.transfer_style(content_image, style_image)\n",
    "        \n",
    "        # Display the results\n",
    "        display_images(\n",
    "            [content_image, style_image, result],\n",
    "            titles=[f'Content: {content_name}', f'Style: {style_name}', 'Style Transfer Result'],\n",
    "            figsize=(18, 6)\n",
    "        )\n",
    "        \n",
    "        # Save the result if needed\n",
    "        output_dir = 'notebooks/outputs'\n",
    "        os.makedirs(output_dir, exist_ok=True)\n",
    "        output_path = os.path.join(output_dir, f'{content_name}_styled_as_{style_name}.jpg')\n",
    "        Image.fromarray(result.astype(np.uint8)).save(output_path)\n",
    "        print(f'Saved result to {output_path}')\n",
    "        \n",
    "        return result\n",
    "\n",
    "    # Perform style transfer if we have at least two images\n",
    "    if len(sample_images) >= 2:\n",
    "        # Get two distinct images for content and style\n",
    "        content_key = 'modern_living_room' if 'modern_living_room' in sample_images else list(sample_images.keys())[0]\n",
    "        \n",
    "        # Choose a different image for style\n",
    "        style_keys = [k for k in sample_images.keys() if k != content_key]\n",
    "        style_key = style_keys[0] if style_keys else content_key\n",
    "        \n",
    "        content_image = sample_images[content_key]\n",
    "        style_image = sample_images[style_key]\n",
    "        \n",
    "        # Perform the style transfer\n",
    "        result_image = perform_style_transfer(content_image, style_image, content_key, style_key)\n",
    "    else:\n",
    "        print('⚠️ Need at least two images for style transfer demonstration.')\n",
    "except Exception as e:\n",
    "    print(f'⚠️ Error during style transfer: {str(e)}')"
   ]
  },
  {
   "cell_type": "markdown",
   "metadata": {},
   "source": [
    "## Conclusion\n",
    "\n",
    "In this notebook, we've demonstrated the key features of the Interior Style Transfer POC:\n",
    "\n",
    "1. **Image Segmentation**: We identified key structural elements in interior images.\n",
    "2. **Style Transfer**: We transferred design styles between different interior images.\n",
    "3. **Structure Preservation**: We maintained architectural integrity during style transfer.\n",
    "4. **Quality Evaluation**: We evaluated the results using objective metrics.\n",
    "5. **Style Variations**: We generated multiple style options for user selection.\n",
    "\n",
    "This interactive demo showcases the potential of AI-powered interior design tools to quickly generate design concepts while preserving architectural constraints.\n",
    "\n",
    "All generated outputs have been saved to the `notebooks/outputs` directory for your reference.\n",
    "\n",
    "### Next Steps\n",
    "\n",
    "- Try with your own interior photos\n",
    "- Experiment with different style references\n",
    "- Adjust segmentation parameters for better structure identification\n",
    "- Use the API for integration with design software"
   ]
  }
 ],
 "metadata": {
  "kernelspec": {
   "display_name": "Python 3 (ipykernel)",
   "language": "python",
   "name": "python3"
  },
  "language_info": {
   "codemirror_mode": {
    "name": "ipython",
    "version": 3
   },
   "file_extension": ".py",
   "mimetype": "text/x-python",
   "name": "python",
   "nbconvert_exporter": "python",
   "pygments_lexer": "ipython3",
   "version": "3.13.1"
  }
 },
 "nbformat": 4,
 "nbformat_minor": 4
}
