{
 "cells": [
  {
   "cell_type": "markdown",
   "metadata": {},
   "source": [
    "# Interior Style Transfer POC\n",
    "\n",
    "This notebook demonstrates AI-driven interior design transformations using Flux on @fal while preserving architectural structure.\n",
    "\n",
    "**Author:** PAIPalooza Team  \n",
    "**Date:** March 31, 2025\n",
    "\n",
    "---\n",
    "\n",
    "## Overview\n",
    "\n",
    "This notebook enables three key transformations:\n",
    "1. **Style-only transfer**: Change the style/theme of a room while maintaining layout\n",
    "2. **Style+layout transfer**: Change both style and furniture arrangement\n",
    "3. **Empty room furnishing**: Add furnishings to an empty interior in a specified style\n",
    "\n",
    "The system uses auto-segmentation and masking to ensure structural elements (walls, floors, windows) remain intact."
   ]
  },
  {
   "cell_type": "markdown",
   "metadata": {},
   "source": [
    "## Setup and Imports\n",
    "\n",
    "First, let's install and import the required libraries."
   ]
  },
  {
   "cell_type": "code",
   "execution_count": null,
   "metadata": {},
   "outputs": [],
   "source": [
    "# Check if running in Colab and install dependencies if needed\n",
    "import sys\n",
    "if 'google.colab' in sys.modules:\n",
    "    !pip install fal segment-anything torch torchvision opencv-python matplotlib pillow scikit-image ipywidgets"
   ]
  },
  {
   "cell_type": "code",
   "execution_count": null,
   "metadata": {},
   "outputs": [],
   "source": [
    "# Standard imports\n",
    "import os\n",
    "import sys\n",
    "import numpy as np\n",
    "import matplotlib.pyplot as plt\n",
    "from PIL import Image\n",
    "import cv2\n",
    "from datetime import datetime\n",
    "import json\n",
    "\n",
    "# Add the src directory to the path\n",
    "module_path = os.path.abspath(os.path.join(os.getcwd(), '..'))\n",
    "if module_path not in sys.path:\n",
    "    sys.path.append(module_path)\n",
    "\n",
    "# Configure matplotlib for better display\n",
    "%matplotlib inline\n",
    "plt.rcParams['figure.figsize'] = (12, 8)\n",
    "plt.rcParams['image.interpolation'] = 'nearest'\n",
    "\n",
    "# Set base paths\n",
    "BASE_DIR = os.path.abspath(os.path.join(os.getcwd(), '..'))\n",
    "ASSETS_DIR = os.path.join(BASE_DIR, 'assets')\n",
    "TEST_IMAGES_DIR = os.path.join(ASSETS_DIR, 'test_images')\n",
    "OUTPUTS_DIR = os.path.join(ASSETS_DIR, 'outputs')\n",
    "MASKS_DIR = os.path.join(ASSETS_DIR, 'masks')\n",
    "\n",
    "# Create directories if they don't exist\n",
    "os.makedirs(TEST_IMAGES_DIR, exist_ok=True)\n",
    "os.makedirs(OUTPUTS_DIR, exist_ok=True)\n",
    "os.makedirs(MASKS_DIR, exist_ok=True)\n",
    "\n",
    "print(f\"Environment setup complete.\")"
   ]
  },
  {
   "cell_type": "markdown",
   "metadata": {},
   "source": [
    "## Data Models\n",
    "\n",
    "We'll implement the data models as specified in the project requirements."
   ]
  },
  {
   "cell_type": "code",
   "execution_count": null,
   "metadata": {},
   "outputs": [],
   "source": [
    "# To be implemented in future stories (Story 9)\n",
    "# Will include InteriorImage, SegmentationMask, StylePrompt, etc."
   ]
  },
  {
   "cell_type": "markdown",
   "metadata": {},
   "source": [
    "## Image Segmentation with SAM\n",
    "\n",
    "This section will use Segment Anything Model (SAM) to create masks for structural elements."
   ]
  },
  {
   "cell_type": "code",
   "execution_count": null,
   "metadata": {},
   "outputs": [],
   "source": [
    "# To be implemented in future stories (Story 3 & 4)\n",
    "# Will include SAM setup, segmentation, and mask generation"
   ]
  },
  {
   "cell_type": "markdown",
   "metadata": {},
   "source": [
    "## Flux Integration with @fal\n",
    "\n",
    "This section will integrate with Flux API via @fal for style transfer."
   ]
  },
  {
   "cell_type": "code",
   "execution_count": null,
   "metadata": {},
   "outputs": [],
   "source": [
    "# To be implemented in future stories (Story 5, 6, 7, 8)\n",
    "# Will include setup for @fal, Flux API calls, and style transfer functions"
   ]
  },
  {
   "cell_type": "markdown",
   "metadata": {},
   "source": [
    "## Results Visualization and Evaluation\n",
    "\n",
    "This section will display and evaluate the results."
   ]
  },
  {
   "cell_type": "code",
   "execution_count": null,
   "metadata": {},
   "outputs": [],
   "source": [
    "# To be implemented in future stories (Story 10, 13)\n",
    "# Will include visualization functions and SSIM/MSE evaluation"
   ]
  },
  {
   "cell_type": "markdown",
   "metadata": {},
   "source": [
    "## Conclusion\n",
    "\n",
    "This notebook demonstrates the power of combining segmentation and generative AI for interior design. The key innovations include:\n",
    "\n",
    "1. Preservation of architectural structure during style transfer\n",
    "2. Flexible approaches for style and layout modification\n",
    "3. Use of state-of-the-art models via @fal platform\n",
    "\n",
    "Future work could include fine-tuning for specific style categories and a user interface for easier interaction."
   ]
  }
 ],
 "metadata": {
  "kernelspec": {
   "display_name": "Python 3",
   "language": "python",
   "name": "python3"
  },
  "language_info": {
   "codemirror_mode": {
    "name": "ipython",
    "version": 3
   },
   "file_extension": ".py",
   "mimetype": "text/x-python",
   "name": "python",
   "nbconvert_exporter": "python",
   "pygments_lexer": "ipython3",
   "version": "3.11.0"
  }
 },
 "nbformat": 4,
 "nbformat_minor": 4
}
